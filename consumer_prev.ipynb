{
 "cells": [
  {
   "cell_type": "markdown",
   "metadata": {},
   "source": [
    "<div style=\"background-color:#e0f0ff; padding:20px; border-radius:10px;\">\n",
    "  <b style=\"color:#003366; font-size:2.5em;\">Sticky Prices, Shifting Behaviour: Untangling Supply and Demand in U.S. Gasoline Markets</b>\n",
    "</div>"
   ]
  },
  {
   "cell_type": "markdown",
   "metadata": {},
   "source": [
    "In this project, we analyse the chicken-and-egg problem of whether supply lags demand or demand lags supply. "
   ]
  },
  {
   "cell_type": "markdown",
   "metadata": {},
   "source": [
    "## **The Theory Behind Our Project**\n",
    "\n",
    "### Using a Keynesian Macroeconomic Lens\n",
    "\n",
    "From a Keynesian perspective, especially in the **short run**, prices — particularly in **administered markets** like gasoline — tend to be **sticky**. This has several important implications:\n",
    "\n",
    "- **Sticky prices** imply that **quantities (e.g., consumption)** adjust in response to prices, rather than prices responding quickly to shifts in quantity demanded.\n",
    "- Thus, we might expect **prices to lead quantities**, not the reverse.\n",
    "\n",
    "### Implication for Gasoline Markets\n",
    "\n",
    "If this framework holds:\n",
    "\n",
    "- **Demand should react to price**, not vice versa.\n",
    "\n",
    "However, **real-world dynamics** — especially in volatile markets — can complicate this view:\n",
    "\n",
    "- **Supply shocks** such as:\n",
    "  - Refinery outages\n",
    "  - Geopolitical tensions  \n",
    "  Often lead to **sudden price jumps** independent of demand behavior.\n",
    "\n",
    "- **Consumer habits and macroeconomic conditions** like:\n",
    "  - Seasonal driving patterns\n",
    "  - Recessions\n",
    "  - Government stimulus checks  \n",
    "  Can significantly **influence gasoline demand**, potentially leading quantity to drive price in some contexts."
   ]
  },
  {
   "cell_type": "markdown",
   "metadata": {},
   "source": [
    "<div style=\"border-left: 5px solid #2196F3; background-color: #E3F2FD; padding: 15px; margin-bottom: 20px;\">\n",
    "  <h3><strong>Hypothesis</strong></h3>\n",
    "  <ul>\n",
    "    <li><strong>H₀ (Null):</strong> Demand (measured through consumption) causes gasoline price fluctuations.</li>\n",
    "    <li><strong>H₁ (Alternative):</strong> Gasoline price changes cause shifts in demand (i.e., driving behaviour).</li>\n",
    "  </ul>\n",
    "</div>"
   ]
  },
  {
   "cell_type": "code",
   "execution_count": 2,
   "metadata": {},
   "outputs": [],
   "source": [
    "# Imports\n",
    "import pandas as pd\n",
    "import missingno as msno\n",
    "import matplotlib.pyplot as plt"
   ]
  },
  {
   "cell_type": "markdown",
   "metadata": {},
   "source": [
    "## **0. Data Preprocessing and Exploratory Data Analysis (EDA)**\n",
    "\n",
    "We utilize the following datasets to examine trends in gasoline pricing, supply-demand dynamics, and transportation behavior. For each dataset, we identify specific variables of interest:\n",
    "\n",
    "| **Dataset**                          | **Selected Variable**                                                                 | **Description**                                                                                                              |\n",
    "|-------------------------------------|----------------------------------------------------------------------------------------|------------------------------------------------------------------------------------------------------------------------------|\n",
    "| **Weekly Gasoline Prices**          | `Price`                                                                                | Price reported for that week; tracks nominal gasoline prices over time.                                                     |\n",
    "| **Weekly Supply Estimates**         | `Weekly U.S. Ending Stocks of Total Gasoline (Thousand Barrels)`                      | Total production of conventional motor gasoline, defined as finished motor gasoline not included in oxygenated or reformulated categories. |\n",
    "| **Monthly Transportation Statistics** | `Highway Vehicle Miles Traveled - All Systems`                                        | The Federal Highway Administration's estimate of vehicle miles traveled on all roads and streets each month.                |"
   ]
  },
  {
   "cell_type": "code",
   "execution_count": 1,
   "metadata": {},
   "outputs": [
    {
     "ename": "NameError",
     "evalue": "name 'pd' is not defined",
     "output_type": "error",
     "traceback": [
      "\u001b[0;31m---------------------------------------------------------------------------\u001b[0m",
      "\u001b[0;31mNameError\u001b[0m                                 Traceback (most recent call last)",
      "Cell \u001b[0;32mIn[1], line 2\u001b[0m\n\u001b[1;32m      1\u001b[0m \u001b[38;5;66;03m# Import production and consumer data\u001b[39;00m\n\u001b[0;32m----> 2\u001b[0m prices_weekly \u001b[38;5;241m=\u001b[39m pd\u001b[38;5;241m.\u001b[39mread_csv(\u001b[38;5;124m'\u001b[39m\u001b[38;5;124m./data/weekly_gasoline_prices.csv\u001b[39m\u001b[38;5;124m'\u001b[39m)\n\u001b[1;32m      3\u001b[0m supply_weekly \u001b[38;5;241m=\u001b[39m pd\u001b[38;5;241m.\u001b[39mread_csv(\u001b[38;5;124m'\u001b[39m\u001b[38;5;124m./data/weekly_supply_estimates.csv\u001b[39m\u001b[38;5;124m'\u001b[39m)\n\u001b[1;32m      4\u001b[0m transport \u001b[38;5;241m=\u001b[39m pd\u001b[38;5;241m.\u001b[39mread_csv(\u001b[38;5;124m'\u001b[39m\u001b[38;5;124m./data/monthly_transportation_statistics.csv\u001b[39m\u001b[38;5;124m'\u001b[39m)\n",
      "\u001b[0;31mNameError\u001b[0m: name 'pd' is not defined"
     ]
    }
   ],
   "source": [
    "# Import production and consumer data\n",
    "prices_weekly = pd.read_csv('./data/weekly_gasoline_prices.csv')\n",
    "supply_weekly = pd.read_csv('./data/weekly_supply_estimates.csv')\n",
    "transport = pd.read_csv('./data/monthly_transportation_statistics.csv')"
   ]
  },
  {
   "cell_type": "code",
   "execution_count": null,
   "metadata": {},
   "outputs": [],
   "source": [
    "df = prices_weekly[prices_weekly.duplicated(subset='Date', keep=False)]\n",
    "df"
   ]
  },
  {
   "cell_type": "code",
   "execution_count": null,
   "metadata": {},
   "outputs": [],
   "source": [
    "prices_weekly = prices_weekly.drop(columns=['Type', 'Unit'])"
   ]
  },
  {
   "cell_type": "code",
   "execution_count": null,
   "metadata": {},
   "outputs": [],
   "source": [
    "data = {\n",
    "    \"prices_weekly\": prices_weekly,\n",
    "    \"supply_weekly\": supply_weekly,\n",
    "    \"transport\": transport\n",
    "}"
   ]
  },
  {
   "cell_type": "markdown",
   "metadata": {},
   "source": [
    "#### **0.1 Handling Missing Data**"
   ]
  },
  {
   "cell_type": "code",
   "execution_count": null,
   "metadata": {},
   "outputs": [],
   "source": [
    "for name, df in data.items():\n",
    "    msno.matrix(df)\n",
    "    plt.title(f\"Missing Data Matrix for {name}\")\n",
    "    plt.show()"
   ]
  },
  {
   "cell_type": "markdown",
   "metadata": {},
   "source": [
    "##### **Rationale for Handling Missing Data**\n",
    "\n",
    "We treat missing data differently based on the analytical objective:\n",
    "\n",
    "**1. Exploratory Analysis: Preserve Raw Data**\n",
    "- **No imputation** applied.\n",
    "- Retains natural variability and avoids introducing bias.\n",
    "- Missingness may itself be informative (e.g., market shocks).\n",
    "- Suitable for correlation, causality testing, and structural analysis.\n",
    "\n",
    "**2. Predictive Modeling: Apply Imputation**\n",
    "- **Imputation required** (e.g., forward fill, interpolation).\n",
    "- Ensures data continuity for models (e.g., regression, forecasting).\n",
    "- Applied **only after** exploratory analysis.\n",
    "\n",
    "| Analysis Type         | Missing Data Approach | Rationale                                  |\n",
    "|-----------------------|------------------------|--------------------------------------------|\n",
    "| Exploratory/Structural| Leave as-is            | Preserve signal integrity, avoid bias      |\n",
    "| Predictive Modeling   | Impute as needed       | Ensure continuity for algorithmic use      |"
   ]
  },
  {
   "cell_type": "markdown",
   "metadata": {},
   "source": [
    "#### **0.2 Pre-processing**"
   ]
  },
  {
   "cell_type": "code",
   "execution_count": null,
   "metadata": {},
   "outputs": [],
   "source": [
    "# Convert all dates to datetime and handle potential errors\n",
    "def clean_prices_weekly(df):\n",
    "    # Remove any strange characters in column names\n",
    "    df.columns = df.columns.str.strip().str.replace('\\\\s+', ' ', regex=True)\n",
    "    \n",
    "    # Convert date to datetime\n",
    "    df['Date'] = pd.to_datetime(df['Date'], errors='coerce')\n",
    "    \n",
    "    # Clean up Type column if needed\n",
    "    if 'Type' in df.columns:\n",
    "        df['Type'] = df['Type'].str.strip()\n",
    "    \n",
    "    # Ensure Price column is numeric\n",
    "    if 'Price' in df.columns:\n",
    "        df['Price'] = pd.to_numeric(df['Price'], errors='coerce')\n",
    "    \n",
    "    return df.dropna(subset=['Date'])  # Remove rows with invalid dates\n",
    "\n",
    "def clean_supply_weekly(df):\n",
    "    # Remove any strange characters in column names and simplify names\n",
    "    df.columns = df.columns.str.strip().str.replace('\\\\s+', ' ', regex=True)\n",
    "    \n",
    "    # Rename columns to be more user-friendly\n",
    "    rename_dict = {\n",
    "        'Weekly U.S. Field Production of Crude Oil (Thousand Barrels per Day)': 'Crude_Production',\n",
    "        'Weekly U.S. Refiner Net Input of Crude Oil (Thousand Barrels per Day)': 'Refiner_Input',\n",
    "        'Weekly U.S. Imports of Crude Oil (Thousand Barrels per Day)': 'Crude_Imports',\n",
    "        'Weekly U.S. Exports of Crude Oil (Thousand Barrels per Day)': 'Crude_Exports',\n",
    "        'Weekly U.S. Imports of Total Gasoline (Thousand Barrels per Day)': 'Gasoline_Imports',\n",
    "        'Weekly U.S. Refiner and Blender Net Production of Finished Motor Gasoline (Thousand Barrels per Day)': 'Gasoline_Production',\n",
    "        'Weekly U.S. Percent Utilization of Refinery Operable Capacity (Percent)': 'Refinery_Utilization',\n",
    "        'Weekly U.S. Ending Stocks of Conventional Motor Gasoline (Thousand Barrels)': 'Gasoline_Stocks'\n",
    "    }\n",
    "    \n",
    "    # Only rename columns that exist in the dataframe\n",
    "    rename_dict = {k: v for k, v in rename_dict.items() if k in df.columns}\n",
    "    if rename_dict:\n",
    "        df = df.rename(columns=rename_dict)\n",
    "    \n",
    "    # Convert date to datetime\n",
    "    df['Date'] = pd.to_datetime(df['Date'], errors='coerce')\n",
    "    \n",
    "    # Convert all numeric columns to float\n",
    "    for col in df.columns:\n",
    "        if col != 'Date':\n",
    "            df[col] = pd.to_numeric(df[col], errors='coerce')\n",
    "    \n",
    "    return df.dropna(subset=['Date'])  # Remove rows with invalid dates\n",
    "\n",
    "def clean_transport(df):\n",
    "    # Fix column names\n",
    "    df.columns = df.columns.str.strip().str.replace('\\\\s+', ' ', regex=True)\n",
    "    \n",
    "    # Convert date to datetime\n",
    "    df['Date'] = pd.to_datetime(df['Date'], errors='coerce')\n",
    "    \n",
    "    # Create MonthStart column for monthly aggregation\n",
    "    df['MonthStart'] = df['Date'].dt.to_period('M').dt.to_timestamp()\n",
    "    \n",
    "    # Rename some columns for clarity\n",
    "    rename_dict = {\n",
    "        'Air Safety - General Aviation Fatalities': 'Aviation_Fatalities',\n",
    "        'Auto sales SAAR (millions)': 'Auto_Sales',\n",
    "        'Light truck sales SAAR (millions)': 'Light_Truck_Sales',\n",
    "        'Heavy truck sales SAAR (millions)': 'Heavy_Truck_Sales'\n",
    "    }\n",
    "    \n",
    "    # Only rename columns that exist in the dataframe\n",
    "    rename_dict = {k: v for k, v in rename_dict.items() if k in df.columns}\n",
    "    if rename_dict:\n",
    "        df = df.rename(columns=rename_dict)\n",
    "    \n",
    "    # Convert numeric columns to float\n",
    "    for col in df.columns:\n",
    "        if col not in ['Date', 'MonthStart', 'Month', 'Year']:\n",
    "            df[col] = pd.to_numeric(df[col], errors='coerce')\n",
    "    \n",
    "    return df.dropna(subset=['Date'])  # Remove rows with invalid dates"
   ]
  },
  {
   "cell_type": "code",
   "execution_count": null,
   "metadata": {},
   "outputs": [],
   "source": [
    "prices_weekly = clean_prices_weekly(prices_weekly)\n",
    "supply_weekly = clean_supply_weekly(supply_weekly)\n",
    "transport = clean_transport(transport)"
   ]
  },
  {
   "cell_type": "markdown",
   "metadata": {},
   "source": [
    "#### **0.3 Merging Datasets**"
   ]
  },
  {
   "cell_type": "code",
   "execution_count": null,
   "metadata": {},
   "outputs": [],
   "source": [
    "# First merge the weekly datasets (prices and supply)\n",
    "def merge_weekly_data(prices_df, supply_df):\n",
    "    # Ensure both dataframes are sorted by date\n",
    "    prices_df = prices_df.sort_values('Date')\n",
    "    supply_df = supply_df.sort_values('Date')\n",
    "    \n",
    "    # Use merge_asof which is ideal for time-series data that may not align perfectly\n",
    "    combined = pd.merge_asof(\n",
    "        prices_df,\n",
    "        supply_df,\n",
    "        on='Date',\n",
    "        direction='nearest',\n",
    "        tolerance=pd.Timedelta('4D')  # Accept matches within 4 days\n",
    "    )\n",
    "    \n",
    "    return combined\n",
    "\n",
    "# Then add the monthly transport data\n",
    "def add_transport_data(weekly_df, transport_df):\n",
    "    # Create a month start column in the weekly dataframe to match with monthly data\n",
    "    weekly_df['MonthStart'] = weekly_df['Date'].dt.to_period('M').dt.to_timestamp()\n",
    "    \n",
    "    # Merge with transport data on MonthStart\n",
    "    final_df = pd.merge(\n",
    "        weekly_df,\n",
    "        transport_df,\n",
    "        on='MonthStart',\n",
    "        how='left',\n",
    "        suffixes=('', '_transport')\n",
    "    )\n",
    "    \n",
    "    # Clean up duplicate columns\n",
    "    cols_to_drop = [col for col in final_df.columns if col.endswith('_transport') \n",
    "                   and col.replace('_transport', '') in final_df.columns]\n",
    "    final_df = final_df.drop(columns=cols_to_drop)\n",
    "    \n",
    "    return final_df"
   ]
  },
  {
   "cell_type": "code",
   "execution_count": null,
   "metadata": {},
   "outputs": [],
   "source": [
    "df = add_transport_data(merge_weekly_data(prices_weekly, supply_weekly), transport)"
   ]
  },
  {
   "cell_type": "code",
   "execution_count": null,
   "metadata": {},
   "outputs": [],
   "source": [
    " # Drop any rows with all NaN values in the critical columns\n",
    "critical_cols = ['Price'] + [col for col in df.columns \n",
    "                            if 'Production' in col or 'Sales' in col]\n",
    "df_final = df.copy().dropna(subset=critical_cols, how='all')"
   ]
  },
  {
   "cell_type": "markdown",
   "metadata": {},
   "source": [
    "### Step 2: Time-Series Analysis\n",
    "\n",
    "- **Cross-Correlation Function (CCF):**  \n",
    "  Assess the lead-lag relationship between gasoline prices and demand (product supplied or VMT).\n",
    "\n",
    "- **Granger Causality Tests:**  \n",
    "  Determine whether one time series statistically \"leads\" another — e.g., do past prices predict demand or vice versa?\n",
    "\n",
    "- **Lagged Regressions:**  \n",
    "  - Model **demand** as a function of past **gasoline prices**.  \n",
    "  - Alternatively, model **price** as a function of past **demand**."
   ]
  },
  {
   "cell_type": "markdown",
   "metadata": {},
   "source": [
    "### Step 3: Visualizations\n",
    "\n",
    "- **Dual-Axis Time Plots:**  \n",
    "  Overlay gasoline prices and demand (or VMT) on the same timeline for direct comparison.\n",
    "\n",
    "- **Rolling Correlation Windows:**  \n",
    "  Show how the relationship between price and demand evolves over time.\n",
    "\n",
    "- **Impulse Response Functions:**  \n",
    "  If using a Vector Autoregression (VAR) model, trace the impact of shocks in one variable on the other."
   ]
  },
  {
   "cell_type": "markdown",
   "metadata": {},
   "source": [
    "## 📊 Visual Narrative\n",
    "\n",
    "Create a compelling visual story by plotting gasoline price and demand curves during key economic shocks:\n",
    "\n",
    "- **2008 Financial Crisis**\n",
    "- **2014 Oil Price Crash**\n",
    "- **COVID-19 Lockdowns (2020)**\n",
    "- **2022 Global Energy Crisis**\n",
    "\n",
    "**Annotations:**  \n",
    "Highlight significant price spikes and correlate them with observable shifts in consumer behavior (e.g., reduced VMT, panic buying)."
   ]
  }
 ],
 "metadata": {
  "kernelspec": {
   "display_name": "base",
   "language": "python",
   "name": "python3"
  },
  "language_info": {
   "codemirror_mode": {
    "name": "ipython",
    "version": 3
   },
   "file_extension": ".py",
   "mimetype": "text/x-python",
   "name": "python",
   "nbconvert_exporter": "python",
   "pygments_lexer": "ipython3",
   "version": "3.12.7"
  }
 },
 "nbformat": 4,
 "nbformat_minor": 2
}
