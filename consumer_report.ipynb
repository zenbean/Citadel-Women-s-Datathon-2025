{
 "cells": [
  {
   "cell_type": "markdown",
   "metadata": {},
   "source": [
    "<div style=\"background-color:#e0f0ff; padding:20px; border-radius:10px;\">\n",
    "  <b style=\"color:#003366; font-size:2.5em;\">Sticky Prices, Shifting Behaviour: Untangling Supply and Demand in U.S. Gasoline Markets</b>\n",
    "</div>\n"
   ]
  },
  {
   "cell_type": "markdown",
   "metadata": {},
   "source": [
    "## **1. Research Motivation**\n",
    "\n",
    "Petrol markets exhibit complex interactions between price, supply, and consumer behaviour. This project investigates whether **prices drive consumer behaviour** or if **demand and supply dynamics push prices** — especially in light of **sticky prices** observed in administered markets.\n"
   ]
  },
  {
   "cell_type": "markdown",
   "metadata": {},
   "source": [
    "## **2. Research Questions**\n",
    "\n",
    "- **Q1:** Does petrol demand (proxied by vehicle miles travelled) respond to changes in petrol prices?\n",
    "- **Q2:** How does petrol supply (production levels) interact with prices? Is there evidence of supply-driven price shocks?\n",
    "- **Q3:** Are there seasonal or structural shifts in these relationships over time (e.g., post-2008 or during COVID)?\n"
   ]
  },
  {
   "cell_type": "markdown",
   "metadata": {},
   "source": [
    "## **3. Theoretical Framework**\n",
    "\n",
    "### A Keynesian View on Sticky Prices\n",
    "\n",
    "According to Keynesian theory:\n",
    "- In the **short run**, prices (especially for essential goods like petrol) do not adjust instantaneously.\n",
    "- Instead, **quantities adjust**, making **behavioural responses (e.g., driving less)** a key margin for equilibrium.\n",
    "  \n",
    "This implies that:\n",
    "\n",
    "> **Petrol price changes → changes in consumer behaviour**, rather than the reverse.\n",
    "\n",
    "However, real-world markets are noisy:\n",
    "- **Supply shocks** (e.g., refinery outages, OPEC decisions) may cause **price changes unrelated to demand**.\n",
    "- **Macroeconomic and behavioural factors** (e.g., seasonal driving, economic cycles) may shift demand and indirectly affect prices."
   ]
  },
  {
   "cell_type": "markdown",
   "metadata": {},
   "source": [
    "## **4. Empirical Strategy**\n",
    "\n",
    "Using three datasets and their key variables:\n",
    "\n",
    "\n",
    "| **Dataset**                          | **Selected Variable**                                                                 | **Role in Analysis**                  |\n",
    "|-------------------------------------|----------------------------------------------------------------------------------------|---------------------------------------|\n",
    "| **Weekly Petrol Prices**            | `Price`                                                                                | Main independent or dependent variable, depending on hypothesis |\n",
    "| **Weekly Supply Estimates**         | `Weekly U.S. Ending Stocks of Finished Motor Gasoline  (Thousand Barrels)`             | Proxy for petrol supply               |\n",
    "| **Monthly Transport Statistics**    | `Highway Vehicle Miles Travelled - All Systems`                                        | Proxy for petrol demand               |\n",
    "\n",
    "### **4.1 Trend and Seasonal Analysis**\n",
    "- Decompose all three time series (using rolling averages or STL decomposition).\n",
    "- Identify seasonal patterns: e.g., do prices spike during summer? Does driving decline during winter?\n",
    "\n",
    "### **4.2 Correlation and Lag Analysis**\n",
    "- Use **cross-correlation functions** (CCF) to identify whether prices **lead** or **lag** demand and supply.\n",
    "- Apply **Granger causality tests** to assess directionality:\n",
    "  - Does `Price → VMT` (supporting sticky price theory)?\n",
    "  - Or does `VMT → Price` (demand-driven pricing)?\n",
    "\n",
    "### **4.3 Structural Breaks and Shocks**\n",
    "- Identify known exogenous shocks (e.g., COVID-19, 2008 crisis, Ukraine war).\n",
    "- Use **dummy variables or rolling regressions** to examine how relationships shift during these periods."
   ]
  },
  {
   "cell_type": "markdown",
   "metadata": {},
   "source": [
    "## **5. Hypotheses**\n",
    "\n",
    "<div style=\"border-left: 5px solid #2196F3; background-color: #E3F2FD; padding: 15px; margin-bottom: 20px;\">\n",
    "  <h3><strong>Primary Hypothesis</strong></h3>\n",
    "  <ul>\n",
    "    <li><strong>H₀ (Null):</strong> Changes in petrol demand (VMT) and supply levels cause price fluctuations.</li>\n",
    "    <li><strong>H₁ (Alternative):</strong> Petrol price changes influence driving behaviour and production levels.</li>\n",
    "  </ul>\n",
    "</div>\n"
   ]
  },
  {
   "cell_type": "markdown",
   "metadata": {},
   "source": [
    "## **6. Potential Extensions**\n",
    "\n",
    "- **Asymmetric Effects**: Do rising prices have a stronger impact on driving behaviour than falling prices?\n",
    "- **Elasticity Estimates**: Estimate the short-run vs. long-run price elasticity of petrol demand.\n",
    "- **Policy Implications**: Explore how fiscal policy (e.g. stimulus payments) or regulation (e.g. fuel duties) interacts with consumer behaviour and pricing."
   ]
  }
 ],
 "metadata": {
  "language_info": {
   "name": "python"
  }
 },
 "nbformat": 4,
 "nbformat_minor": 2
}
